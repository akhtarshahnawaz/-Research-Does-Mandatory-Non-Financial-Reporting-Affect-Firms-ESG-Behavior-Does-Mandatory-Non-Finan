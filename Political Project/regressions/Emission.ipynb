{
 "cells": [
  {
   "cell_type": "code",
   "execution_count": 74,
   "metadata": {},
   "outputs": [],
   "source": [
    "import pandas as pd\n",
    "import numpy as np\n",
    "import matplotlib.pyplot as plt\n",
    "from helpers.helpers import *\n",
    "import statsmodels.api as sm\n",
    "import seaborn as sns\n",
    "%matplotlib inline"
   ]
  },
  {
   "cell_type": "code",
   "execution_count": 75,
   "metadata": {},
   "outputs": [
    {
     "name": "stdout",
     "output_type": "stream",
     "text": [
      "WARNING *** file size (647967) not 512 + multiple of sector size (512)\n"
     ]
    }
   ],
   "source": [
    "emission_data = pd.read_excel(\"../data/Emission/verified_emissions_2018_en.xlsx\", sheet_name =\"verified_emissions_2018\", header = 13)\n",
    "treatment = pd.read_excel(\"../data/Emission/basic_listed_mt500.xls\")"
   ]
  },
  {
   "cell_type": "code",
   "execution_count": 76,
   "metadata": {},
   "outputs": [],
   "source": [
    "emission_data[\"INSTALLATION_NAME\"] = emission_data[\"INSTALLATION_NAME\"].apply(lambda x: standardize_string(x))\n",
    "treatment[\"Company name\"] = treatment[\"Company name\"].apply(lambda x: standardize_string(x))\n",
    "\n",
    "common_firms = set(emission_data[\"INSTALLATION_NAME\"]).intersection(set(treatment[\"Company name\"]))\n",
    "\n",
    "treated_companies = emission_data.loc[emission_data[\"INSTALLATION_NAME\"].isin(common_firms)]\n",
    "treated_companies = treated_companies[[c for c in treated_companies.columns if \"VERIFIED_EMISSIONS\" in c]]\n",
    "treated_companies.columns = [c.split(\"_\")[2] for c in treated_companies.columns]"
   ]
  },
  {
   "cell_type": "code",
   "execution_count": 77,
   "metadata": {},
   "outputs": [],
   "source": [
    "panel = pd.melt(treated_companies, value_vars=[c for c in treated_companies.columns], var_name =\"year\", value_name = \"verified_emission\")\n",
    "panel.loc[panel.verified_emission == \"Excluded\"] = 0\n",
    "panel = panel.loc[panel.year > 2000]\n",
    "panel = panel.astype(int)"
   ]
  },
  {
   "cell_type": "code",
   "execution_count": 78,
   "metadata": {},
   "outputs": [],
   "source": [
    "cutoff = 2016\n",
    "\n",
    "panel[\"post_cutoff\"] = (panel[\"year\"]>cutoff).astype(int)\n",
    "panel[\"running_variable\"] = panel[\"year\"] - cutoff\n",
    "panel[\"intercept\"] = 1"
   ]
  },
  {
   "cell_type": "code",
   "execution_count": 79,
   "metadata": {},
   "outputs": [
    {
     "data": {
      "text/html": [
       "<table class=\"simpletable\">\n",
       "<caption>OLS Regression Results</caption>\n",
       "<tr>\n",
       "  <th>Dep. Variable:</th>    <td>verified_emission</td> <th>  R-squared:         </th> <td>   0.001</td>\n",
       "</tr>\n",
       "<tr>\n",
       "  <th>Model:</th>                   <td>OLS</td>        <th>  Adj. R-squared:    </th> <td>  -0.007</td>\n",
       "</tr>\n",
       "<tr>\n",
       "  <th>Method:</th>             <td>Least Squares</td>   <th>  F-statistic:       </th> <td>  0.1284</td>\n",
       "</tr>\n",
       "<tr>\n",
       "  <th>Date:</th>             <td>Tue, 07 Apr 2020</td>  <th>  Prob (F-statistic):</th>  <td> 0.880</td> \n",
       "</tr>\n",
       "<tr>\n",
       "  <th>Time:</th>                 <td>23:24:18</td>      <th>  Log-Likelihood:    </th> <td> -2913.4</td>\n",
       "</tr>\n",
       "<tr>\n",
       "  <th>No. Observations:</th>      <td>   236</td>       <th>  AIC:               </th> <td>   5833.</td>\n",
       "</tr>\n",
       "<tr>\n",
       "  <th>Df Residuals:</th>          <td>   233</td>       <th>  BIC:               </th> <td>   5843.</td>\n",
       "</tr>\n",
       "<tr>\n",
       "  <th>Df Model:</th>              <td>     2</td>       <th>                     </th>     <td> </td>   \n",
       "</tr>\n",
       "<tr>\n",
       "  <th>Covariance Type:</th>      <td>nonrobust</td>     <th>                     </th>     <td> </td>   \n",
       "</tr>\n",
       "</table>\n",
       "<table class=\"simpletable\">\n",
       "<tr>\n",
       "          <td></td>            <th>coef</th>     <th>std err</th>      <th>t</th>      <th>P>|t|</th>  <th>[0.025</th>    <th>0.975]</th>  \n",
       "</tr>\n",
       "<tr>\n",
       "  <th>intercept</th>        <td> 4.161e+04</td> <td> 7463.077</td> <td>    5.575</td> <td> 0.000</td> <td> 2.69e+04</td> <td> 5.63e+04</td>\n",
       "</tr>\n",
       "<tr>\n",
       "  <th>post_cutoff</th>      <td>-2009.0717</td> <td> 1.28e+04</td> <td>   -0.156</td> <td> 0.876</td> <td>-2.73e+04</td> <td> 2.33e+04</td>\n",
       "</tr>\n",
       "<tr>\n",
       "  <th>running_variable</th> <td>  717.7465</td> <td> 1552.250</td> <td>    0.462</td> <td> 0.644</td> <td>-2340.494</td> <td> 3775.987</td>\n",
       "</tr>\n",
       "</table>\n",
       "<table class=\"simpletable\">\n",
       "<tr>\n",
       "  <th>Omnibus:</th>       <td>110.104</td> <th>  Durbin-Watson:     </th> <td>   2.371</td>\n",
       "</tr>\n",
       "<tr>\n",
       "  <th>Prob(Omnibus):</th> <td> 0.000</td>  <th>  Jarque-Bera (JB):  </th> <td> 320.965</td>\n",
       "</tr>\n",
       "<tr>\n",
       "  <th>Skew:</th>          <td> 2.154</td>  <th>  Prob(JB):          </th> <td>2.01e-70</td>\n",
       "</tr>\n",
       "<tr>\n",
       "  <th>Kurtosis:</th>      <td> 6.752</td>  <th>  Cond. No.          </th> <td>    17.4</td>\n",
       "</tr>\n",
       "</table><br/><br/>Warnings:<br/>[1] Standard Errors assume that the covariance matrix of the errors is correctly specified."
      ],
      "text/plain": [
       "<class 'statsmodels.iolib.summary.Summary'>\n",
       "\"\"\"\n",
       "                            OLS Regression Results                            \n",
       "==============================================================================\n",
       "Dep. Variable:      verified_emission   R-squared:                       0.001\n",
       "Model:                            OLS   Adj. R-squared:                 -0.007\n",
       "Method:                 Least Squares   F-statistic:                    0.1284\n",
       "Date:                Tue, 07 Apr 2020   Prob (F-statistic):              0.880\n",
       "Time:                        23:24:18   Log-Likelihood:                -2913.4\n",
       "No. Observations:                 236   AIC:                             5833.\n",
       "Df Residuals:                     233   BIC:                             5843.\n",
       "Df Model:                           2                                         \n",
       "Covariance Type:            nonrobust                                         \n",
       "====================================================================================\n",
       "                       coef    std err          t      P>|t|      [0.025      0.975]\n",
       "------------------------------------------------------------------------------------\n",
       "intercept         4.161e+04   7463.077      5.575      0.000    2.69e+04    5.63e+04\n",
       "post_cutoff      -2009.0717   1.28e+04     -0.156      0.876   -2.73e+04    2.33e+04\n",
       "running_variable   717.7465   1552.250      0.462      0.644   -2340.494    3775.987\n",
       "==============================================================================\n",
       "Omnibus:                      110.104   Durbin-Watson:                   2.371\n",
       "Prob(Omnibus):                  0.000   Jarque-Bera (JB):              320.965\n",
       "Skew:                           2.154   Prob(JB):                     2.01e-70\n",
       "Kurtosis:                       6.752   Cond. No.                         17.4\n",
       "==============================================================================\n",
       "\n",
       "Warnings:\n",
       "[1] Standard Errors assume that the covariance matrix of the errors is correctly specified.\n",
       "\"\"\""
      ]
     },
     "execution_count": 79,
     "metadata": {},
     "output_type": "execute_result"
    }
   ],
   "source": [
    "model = sm.OLS(panel[[\"verified_emission\"]], panel[[\"intercept\",\"post_cutoff\",\"running_variable\"]]).fit()\n",
    "model.summary()"
   ]
  },
  {
   "cell_type": "code",
   "execution_count": null,
   "metadata": {},
   "outputs": [],
   "source": []
  }
 ],
 "metadata": {
  "kernelspec": {
   "display_name": "Python 2",
   "language": "python",
   "name": "python2"
  },
  "language_info": {
   "codemirror_mode": {
    "name": "ipython",
    "version": 2
   },
   "file_extension": ".py",
   "mimetype": "text/x-python",
   "name": "python",
   "nbconvert_exporter": "python",
   "pygments_lexer": "ipython2",
   "version": "2.7.14"
  }
 },
 "nbformat": 4,
 "nbformat_minor": 2
}
