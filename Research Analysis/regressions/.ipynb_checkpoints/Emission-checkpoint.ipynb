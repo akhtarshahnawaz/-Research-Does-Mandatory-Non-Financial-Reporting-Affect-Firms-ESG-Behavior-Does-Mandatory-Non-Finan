{
 "cells": [
  {
   "cell_type": "code",
   "execution_count": 28,
   "metadata": {},
   "outputs": [],
   "source": [
    "import pandas as pd\n",
    "import numpy as np\n",
    "import matplotlib.pyplot as plt\n",
    "from helpers.helpers import *\n",
    "import statsmodels.api as sm\n",
    "import seaborn as sns\n",
    "%matplotlib inline"
   ]
  },
  {
   "cell_type": "code",
   "execution_count": 43,
   "metadata": {},
   "outputs": [
    {
     "name": "stdout",
     "output_type": "stream",
     "text": [
      "WARNING *** file size (647967) not 512 + multiple of sector size (512)\n"
     ]
    }
   ],
   "source": [
    "emission_data = pd.read_excel(\"../data/Emission/verified_emissions_2018_en.xlsx\", sheet_name =\"verified_emissions_2018\", header = 13)\n",
    "treatment = pd.read_excel(\"../data/Emission/basic_listed_mt500.xls\")"
   ]
  },
  {
   "cell_type": "code",
   "execution_count": 44,
   "metadata": {},
   "outputs": [],
   "source": [
    "# emission_data[\"INSTALLATION_NAME\"] = emission_data[\"INSTALLATION_NAME\"].apply(lambda x: standardize_string(x))\n",
    "# treatment[\"Company name\"] = treatment[\"Company name\"].apply(lambda x: standardize_string(x))\n",
    "\n",
    "# common_firms = set(emission_data[\"INSTALLATION_NAME\"]).intersection(set(treatment[\"Company name\"]))\n",
    "\n",
    "treated_companies = emission_data\n",
    "treated_companies = treated_companies[[c for c in treated_companies.columns if \"VERIFIED_EMISSIONS\" in c]]\n",
    "treated_companies.columns = [c.split(\"_\")[2] for c in treated_companies.columns]"
   ]
  },
  {
   "cell_type": "code",
   "execution_count": 45,
   "metadata": {},
   "outputs": [],
   "source": [
    "panel = pd.melt(treated_companies, value_vars=[c for c in treated_companies.columns], var_name =\"year\", value_name = \"verified_emission\")\n",
    "# panel.loc[panel.verified_emission == \"Excluded\"] = 0\n",
    "panel = panel.loc[~(panel.verified_emission == \"Excluded\")]\n",
    "panel = panel.loc[~(panel.verified_emission == -1)]\n",
    "panel = panel.loc[panel.year > 2010]\n",
    "panel = panel.astype(int)"
   ]
  },
  {
   "cell_type": "code",
   "execution_count": 46,
   "metadata": {},
   "outputs": [],
   "source": [
    "cutoff = 2014\n",
    "\n",
    "panel[\"post_cutoff\"] = (panel[\"year\"]>cutoff).astype(int)\n",
    "panel[\"running_variable\"] = panel[\"year\"] - 2014\n",
    "panel[\"intercept\"] = 1"
   ]
  },
  {
   "cell_type": "code",
   "execution_count": 47,
   "metadata": {},
   "outputs": [
    {
     "data": {
      "text/html": [
       "<table class=\"simpletable\">\n",
       "<caption>OLS Regression Results</caption>\n",
       "<tr>\n",
       "  <th>Dep. Variable:</th>    <td>verified_emission</td> <th>  R-squared:         </th>  <td>   0.000</td>  \n",
       "</tr>\n",
       "<tr>\n",
       "  <th>Model:</th>                   <td>OLS</td>        <th>  Adj. R-squared:    </th>  <td>   0.000</td>  \n",
       "</tr>\n",
       "<tr>\n",
       "  <th>Method:</th>             <td>Least Squares</td>   <th>  F-statistic:       </th>  <td>   22.01</td>  \n",
       "</tr>\n",
       "<tr>\n",
       "  <th>Date:</th>             <td>Wed, 08 Apr 2020</td>  <th>  Prob (F-statistic):</th>  <td>2.76e-10</td>  \n",
       "</tr>\n",
       "<tr>\n",
       "  <th>Time:</th>                 <td>20:23:10</td>      <th>  Log-Likelihood:    </th> <td>-1.7857e+06</td>\n",
       "</tr>\n",
       "<tr>\n",
       "  <th>No. Observations:</th>      <td>118040</td>       <th>  AIC:               </th>  <td>3.571e+06</td> \n",
       "</tr>\n",
       "<tr>\n",
       "  <th>Df Residuals:</th>          <td>118037</td>       <th>  BIC:               </th>  <td>3.571e+06</td> \n",
       "</tr>\n",
       "<tr>\n",
       "  <th>Df Model:</th>              <td>     2</td>       <th>                     </th>      <td> </td>     \n",
       "</tr>\n",
       "<tr>\n",
       "  <th>Covariance Type:</th>      <td>nonrobust</td>     <th>                     </th>      <td> </td>     \n",
       "</tr>\n",
       "</table>\n",
       "<table class=\"simpletable\">\n",
       "<tr>\n",
       "          <td></td>            <th>coef</th>     <th>std err</th>      <th>t</th>      <th>P>|t|</th>  <th>[0.025</th>    <th>0.975]</th>  \n",
       "</tr>\n",
       "<tr>\n",
       "  <th>intercept</th>        <td> 1.595e+05</td> <td> 5411.358</td> <td>   29.479</td> <td> 0.000</td> <td> 1.49e+05</td> <td>  1.7e+05</td>\n",
       "</tr>\n",
       "<tr>\n",
       "  <th>post_cutoff</th>      <td> 2.094e+04</td> <td> 9675.740</td> <td>    2.164</td> <td> 0.030</td> <td> 1970.839</td> <td> 3.99e+04</td>\n",
       "</tr>\n",
       "<tr>\n",
       "  <th>running_variable</th> <td>-8044.6238</td> <td> 1519.405</td> <td>   -5.295</td> <td> 0.000</td> <td> -1.1e+04</td> <td>-5066.615</td>\n",
       "</tr>\n",
       "</table>\n",
       "<table class=\"simpletable\">\n",
       "<tr>\n",
       "  <th>Omnibus:</th>       <td>246446.960</td> <th>  Durbin-Watson:     </th>    <td>   1.539</td>   \n",
       "</tr>\n",
       "<tr>\n",
       "  <th>Prob(Omnibus):</th>   <td> 0.000</td>   <th>  Jarque-Bera (JB):  </th> <td>1226008219.460</td>\n",
       "</tr>\n",
       "<tr>\n",
       "  <th>Skew:</th>            <td>17.984</td>   <th>  Prob(JB):          </th>    <td>    0.00</td>   \n",
       "</tr>\n",
       "<tr>\n",
       "  <th>Kurtosis:</th>        <td>500.975</td>  <th>  Cond. No.          </th>    <td>    13.4</td>   \n",
       "</tr>\n",
       "</table><br/><br/>Warnings:<br/>[1] Standard Errors assume that the covariance matrix of the errors is correctly specified."
      ],
      "text/plain": [
       "<class 'statsmodels.iolib.summary.Summary'>\n",
       "\"\"\"\n",
       "                            OLS Regression Results                            \n",
       "==============================================================================\n",
       "Dep. Variable:      verified_emission   R-squared:                       0.000\n",
       "Model:                            OLS   Adj. R-squared:                  0.000\n",
       "Method:                 Least Squares   F-statistic:                     22.01\n",
       "Date:                Wed, 08 Apr 2020   Prob (F-statistic):           2.76e-10\n",
       "Time:                        20:23:10   Log-Likelihood:            -1.7857e+06\n",
       "No. Observations:              118040   AIC:                         3.571e+06\n",
       "Df Residuals:                  118037   BIC:                         3.571e+06\n",
       "Df Model:                           2                                         \n",
       "Covariance Type:            nonrobust                                         \n",
       "====================================================================================\n",
       "                       coef    std err          t      P>|t|      [0.025      0.975]\n",
       "------------------------------------------------------------------------------------\n",
       "intercept         1.595e+05   5411.358     29.479      0.000    1.49e+05     1.7e+05\n",
       "post_cutoff       2.094e+04   9675.740      2.164      0.030    1970.839    3.99e+04\n",
       "running_variable -8044.6238   1519.405     -5.295      0.000    -1.1e+04   -5066.615\n",
       "==============================================================================\n",
       "Omnibus:                   246446.960   Durbin-Watson:                   1.539\n",
       "Prob(Omnibus):                  0.000   Jarque-Bera (JB):       1226008219.460\n",
       "Skew:                          17.984   Prob(JB):                         0.00\n",
       "Kurtosis:                     500.975   Cond. No.                         13.4\n",
       "==============================================================================\n",
       "\n",
       "Warnings:\n",
       "[1] Standard Errors assume that the covariance matrix of the errors is correctly specified.\n",
       "\"\"\""
      ]
     },
     "execution_count": 47,
     "metadata": {},
     "output_type": "execute_result"
    }
   ],
   "source": [
    "model = sm.OLS(panel[[\"verified_emission\"]], panel[[\"intercept\",\"post_cutoff\",\"running_variable\"]]).fit()\n",
    "model.summary()"
   ]
  },
  {
   "cell_type": "code",
   "execution_count": null,
   "metadata": {},
   "outputs": [],
   "source": []
  }
 ],
 "metadata": {
  "kernelspec": {
   "display_name": "Python 2",
   "language": "python",
   "name": "python2"
  },
  "language_info": {
   "codemirror_mode": {
    "name": "ipython",
    "version": 2
   },
   "file_extension": ".py",
   "mimetype": "text/x-python",
   "name": "python",
   "nbconvert_exporter": "python",
   "pygments_lexer": "ipython2",
   "version": "2.7.14"
  }
 },
 "nbformat": 4,
 "nbformat_minor": 2
}
